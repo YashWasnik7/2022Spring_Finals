{
  "nbformat": 4,
  "nbformat_minor": 0,
  "metadata": {
    "colab": {
      "name": "PR_final_project.ipynb",
      "provenance": [],
      "collapsed_sections": [],
      "authorship_tag": "ABX9TyNtfKKHJQqds/IwvdBNwREZ",
      "include_colab_link": true
    },
    "kernelspec": {
      "name": "python3",
      "display_name": "Python 3"
    },
    "language_info": {
      "name": "python"
    }
  },
  "cells": [
    {
      "cell_type": "markdown",
      "metadata": {
        "id": "view-in-github",
        "colab_type": "text"
      },
      "source": [
        "<a href=\"https://colab.research.google.com/github/YashWasnik7/2022Spring_Finals/blob/main/PR_final_project.ipynb\" target=\"_parent\"><img src=\"https://colab.research.google.com/assets/colab-badge.svg\" alt=\"Open In Colab\"/></a>"
      ]
    },
    {
      "cell_type": "code",
      "source": [
        "from google.colab import drive\n",
        "drive.mount('/content/drive')"
      ],
      "metadata": {
        "colab": {
          "base_uri": "https://localhost:8080/"
        },
        "id": "Tdpy0YxS5Jke",
        "outputId": "df26852b-cdde-4d2f-e307-7705666e4327"
      },
      "execution_count": null,
      "outputs": [
        {
          "output_type": "stream",
          "name": "stdout",
          "text": [
            "Mounted at /content/drive\n"
          ]
        }
      ]
    },
    {
      "cell_type": "code",
      "execution_count": null,
      "metadata": {
        "id": "jKq8WVQ4zeev"
      },
      "outputs": [],
      "source": [
        "import numpy as np\n",
        "import pandas as pd\n",
        "import matplotlib.pyplot as plt"
      ]
    },
    {
      "cell_type": "markdown",
      "source": [
        "Creating monthly COVID-19 cases plot for India and USA"
      ],
      "metadata": {
        "id": "JA20HbCpaEhu"
      }
    },
    {
      "cell_type": "code",
      "source": [
        "data = pd.read_csv(\"/content/drive/MyDrive/PR_finals/worldometer_coronavirus_daily_data.csv\")"
      ],
      "metadata": {
        "id": "OPBSP3yS4KmZ"
      },
      "execution_count": null,
      "outputs": []
    },
    {
      "cell_type": "code",
      "source": [
        "# take out india and us rows\n",
        "cases_india = data[data['country']=='India'][['date','country','cumulative_total_cases','daily_new_cases']]\n",
        "cases_usa = data[data['country']=='USA'][['date','country','cumulative_total_cases','daily_new_cases']]"
      ],
      "metadata": {
        "id": "g6PDNLUc59BG"
      },
      "execution_count": null,
      "outputs": []
    },
    {
      "cell_type": "code",
      "source": [
        "# create month and year columns\n",
        "cases_india['month'] = pd.DatetimeIndex(cases_india['date']).month\n",
        "cases_india['year'] = pd.DatetimeIndex(cases_india['date']).year\n",
        "\n",
        "cases_usa['month'] = pd.DatetimeIndex(cases_usa['date']).month\n",
        "cases_usa['year'] = pd.DatetimeIndex(cases_usa['date']).year"
      ],
      "metadata": {
        "id": "1U8bsfMk6-32"
      },
      "execution_count": null,
      "outputs": []
    },
    {
      "cell_type": "code",
      "source": [
        "cases_india = cases_india.reset_index()\n",
        "cases_usa = cases_usa.reset_index()"
      ],
      "metadata": {
        "id": "d3P0nDEL7qCD"
      },
      "execution_count": null,
      "outputs": []
    },
    {
      "cell_type": "code",
      "source": [
        "cases_india.drop('index', axis=1, inplace=True)\n",
        "cases_usa.drop('index', axis=1, inplace=True)\n",
        "\n",
        "cases_india.drop('cumulative_total_cases', axis=1, inplace=True)\n",
        "cases_usa.drop('cumulative_total_cases', axis=1, inplace=True)"
      ],
      "metadata": {
        "id": "9KXywJ118UcO"
      },
      "execution_count": null,
      "outputs": []
    },
    {
      "cell_type": "code",
      "source": [
        "# group dataframes by month and year\n",
        "\n",
        "cases_india_monthwise = cases_india.groupby(['month','year']).sum().reset_index()\n",
        "\n",
        "cases_usa_monthwise = cases_usa.groupby(['month','year']).sum().reset_index()"
      ],
      "metadata": {
        "id": "oNILOors9cK-"
      },
      "execution_count": null,
      "outputs": []
    },
    {
      "cell_type": "code",
      "source": [
        "# combine month and year into index of dataframe\n",
        "\n",
        "cases_india_monthwise['month_year'] =  cases_india_monthwise['year'].apply(str) + '-' + cases_india_monthwise['month'].apply(str)\n",
        "\n",
        "cases_usa_monthwise['month_year'] =  cases_usa_monthwise['year'].apply(str) + '-' + cases_usa_monthwise['month'].apply(str)\n"
      ],
      "metadata": {
        "id": "GPLxTmpnD2dn"
      },
      "execution_count": null,
      "outputs": []
    },
    {
      "cell_type": "code",
      "source": [
        "# sort rows in ascending order of year and month\n",
        "\n",
        "cases_india_monthwise.sort_values(by=['year', 'month'], ascending = True, inplace = True)\n",
        "\n",
        "cases_usa_monthwise.sort_values(by=['year', 'month'], ascending = True, inplace = True)"
      ],
      "metadata": {
        "id": "yhit9ogX9V_7"
      },
      "execution_count": null,
      "outputs": []
    },
    {
      "cell_type": "code",
      "source": [
        "# merge the india and usa dataframes into one\n",
        "covid_cases = pd.merge(left = cases_india_monthwise, right = cases_usa_monthwise, \n",
        "                       how = 'inner', left_on = 'month_year', right_on = 'month_year')"
      ],
      "metadata": {
        "id": "JAiq0apbRqmn"
      },
      "execution_count": null,
      "outputs": []
    },
    {
      "cell_type": "code",
      "source": [
        "# rename columns and drop duplicate columns\n",
        "\n",
        "covid_cases = covid_cases.rename(columns = {'daily_new_cases_x':'cases_india', 'daily_new_cases_y':'cases_usa',})\n",
        "covid_cases.drop(['month_y', 'year_y'], axis=1, inplace=True)"
      ],
      "metadata": {
        "id": "YyLKt37cXeUr"
      },
      "execution_count": null,
      "outputs": []
    },
    {
      "cell_type": "code",
      "source": [
        "# plot the dataframe\n",
        "\n",
        "plot_title = \"Monthly COVID-19 Cases\"\n",
        "\n",
        "x = 'month_year'\n",
        "y = ['cases_india', 'cases_usa']\n",
        "\n",
        "covid_cases.plot(x, y, figsize=(20,5))\n",
        "plt.title(plot_title)\n",
        "plt.xlabel('month-year')\n",
        "plt.ylabel('no. of cases')\n"
      ],
      "metadata": {
        "colab": {
          "base_uri": "https://localhost:8080/",
          "height": 363
        },
        "id": "DGXMg7K_G_ZT",
        "outputId": "aaf7fafb-1049-4060-8865-88cdf99f3dd9"
      },
      "execution_count": null,
      "outputs": [
        {
          "output_type": "execute_result",
          "data": {
            "text/plain": [
              "Text(0, 0.5, 'no. of cases')"
            ]
          },
          "metadata": {},
          "execution_count": 13
        },
        {
          "output_type": "display_data",
          "data": {
            "text/plain": [
              "<Figure size 1440x360 with 1 Axes>"
            ],
            "image/png": "[encoded data removed]"
          },
          "metadata": {
            "needs_background": "light"
          }
        }
      ]
    },
    {
      "cell_type": "markdown",
      "source": [
        "Creating vaccine rollout plot for India and USA"
      ],
      "metadata": {
        "id": "GPgugdrLaTi5"
      }
    },
    {
      "cell_type": "code",
      "source": [
        "# importing data\n",
        "\n",
        "india_col = ['Updated On', 'Total Doses Administered', 'Male (Individuals Vaccinated)', 'Female (Individuals Vaccinated)', 'Transgender (Individuals Vaccinated)']\n",
        "india_vax = pd.read_csv(\"/content/drive/MyDrive/PR_finals/cowin_vaccine_data_statewise.csv\", usecols = india_col)\n",
        "\n",
        "\n",
        "usa_col = ['Date', 'Total Doses Administered Daily']\n",
        "usa_vax = pd.read_csv(\"/content/drive/MyDrive/PR_finals/trends_in_number_of_covid19_vaccinations_in_the_us.csv\", usecols = usa_col)"
      ],
      "metadata": {
        "id": "dDGRtcCQabU3"
      },
      "execution_count": null,
      "outputs": []
    },
    {
      "cell_type": "code",
      "source": [
        "india_vax.head()"
      ],
      "metadata": {
        "colab": {
          "base_uri": "https://localhost:8080/",
          "height": 206
        },
        "id": "Y2aJ9SJUl7dg",
        "outputId": "6caf1780-04bb-49f1-e7d5-053bb64cc156"
      },
      "execution_count": null,
      "outputs": [
        {
          "output_type": "execute_result",
          "data": {
            "text/plain": [
              "   Updated On  Total Doses Administered  Male (Individuals Vaccinated)  \\\n",
              "0  16/01/2021                   48276.0                        23757.0   \n",
              "1  17/01/2021                   58604.0                        27348.0   \n",
              "2  18/01/2021                   99449.0                        41361.0   \n",
              "3  19/01/2021                  195525.0                        81901.0   \n",
              "4  20/01/2021                  251280.0                        98111.0   \n",
              "\n",
              "   Female (Individuals Vaccinated)  Transgender (Individuals Vaccinated)  \n",
              "0                          24517.0                                   2.0  \n",
              "1                          31252.0                                   4.0  \n",
              "2                          58083.0                                   5.0  \n",
              "3                         113613.0                                  11.0  \n",
              "4                         153145.0                                  24.0  "
            ],
            "text/html": [
              "\n",
              "  <div id=\"df-3a567128-0e70-4519-896b-3c3554773ec2\">\n",
              "    <div class=\"colab-df-container\">\n",
              "      <div>\n",
              "<style scoped>\n",
              "    .dataframe tbody tr th:only-of-type {\n",
              "        vertical-align: middle;\n",
              "    }\n",
              "\n",
              "    .dataframe tbody tr th {\n",
              "        vertical-align: top;\n",
              "    }\n",
              "\n",
              "    .dataframe thead th {\n",
              "        text-align: right;\n",
              "    }\n",
              "</style>\n",
              "<table border=\"1\" class=\"dataframe\">\n",
              "  <thead>\n",
              "    <tr style=\"text-align: right;\">\n",
              "      <th></th>\n",
              "      <th>Updated On</th>\n",
              "      <th>Total Doses Administered</th>\n",
              "      <th>Male (Individuals Vaccinated)</th>\n",
              "      <th>Female (Individuals Vaccinated)</th>\n",
              "      <th>Transgender (Individuals Vaccinated)</th>\n",
              "    </tr>\n",
              "  </thead>\n",
              "  <tbody>\n",
              "    <tr>\n",
              "      <th>0</th>\n",
              "      <td>16/01/2021</td>\n",
              "      <td>48276.0</td>\n",
              "      <td>23757.0</td>\n",
              "      <td>24517.0</td>\n",
              "      <td>2.0</td>\n",
              "    </tr>\n",
              "    <tr>\n",
              "      <th>1</th>\n",
              "      <td>17/01/2021</td>\n",
              "      <td>58604.0</td>\n",
              "      <td>27348.0</td>\n",
              "      <td>31252.0</td>\n",
              "      <td>4.0</td>\n",
              "    </tr>\n",
              "    <tr>\n",
              "      <th>2</th>\n",
              "      <td>18/01/2021</td>\n",
              "      <td>99449.0</td>\n",
              "      <td>41361.0</td>\n",
              "      <td>58083.0</td>\n",
              "      <td>5.0</td>\n",
              "    </tr>\n",
              "    <tr>\n",
              "      <th>3</th>\n",
              "      <td>19/01/2021</td>\n",
              "      <td>195525.0</td>\n",
              "      <td>81901.0</td>\n",
              "      <td>113613.0</td>\n",
              "      <td>11.0</td>\n",
              "    </tr>\n",
              "    <tr>\n",
              "      <th>4</th>\n",
              "      <td>20/01/2021</td>\n",
              "      <td>251280.0</td>\n",
              "      <td>98111.0</td>\n",
              "      <td>153145.0</td>\n",
              "      <td>24.0</td>\n",
              "    </tr>\n",
              "  </tbody>\n",
              "</table>\n",
              "</div>\n",
              "      <button class=\"colab-df-convert\" onclick=\"convertToInteractive('df-3a567128-0e70-4519-896b-3c3554773ec2')\"\n",
              "              title=\"Convert this dataframe to an interactive table.\"\n",
              "              style=\"display:none;\">\n",
              "        \n",
              "  <svg xmlns=\"http://www.w3.org/2000/svg\" height=\"24px\"viewBox=\"0 0 24 24\"\n",
              "       width=\"24px\">\n",
              "    <path d=\"M0 0h24v24H0V0z\" fill=\"none\"/>\n",
              "    <path d=\"M18.56 5.44l.94 2.06.94-2.06 2.06-.94-2.06-.94-.94-2.06-.94 2.06-2.06.94zm-11 1L8.5 8.5l.94-2.06 2.06-.94-2.06-.94L8.5 2.5l-.94 2.06-2.06.94zm10 10l.94 2.06.94-2.06 2.06-.94-2.06-.94-.94-2.06-.94 2.06-2.06.94z\"/><path d=\"M17.41 7.96l-1.37-1.37c-.4-.4-.92-.59-1.43-.59-.52 0-1.04.2-1.43.59L10.3 9.45l-7.72 7.72c-.78.78-.78 2.05 0 2.83L4 21.41c.39.39.9.59 1.41.59.51 0 1.02-.2 1.41-.59l7.78-7.78 2.81-2.81c.8-.78.8-2.07 0-2.86zM5.41 20L4 18.59l7.72-7.72 1.47 1.35L5.41 20z\"/>\n",
              "  </svg>\n",
              "      </button>\n",
              "      \n",
              "  <style>\n",
              "    .colab-df-container {\n",
              "      display:flex;\n",
              "      flex-wrap:wrap;\n",
              "      gap: 12px;\n",
              "    }\n",
              "\n",
              "    .colab-df-convert {\n",
              "      background-color: #E8F0FE;\n",
              "      border: none;\n",
              "      border-radius: 50%;\n",
              "      cursor: pointer;\n",
              "      display: none;\n",
              "      fill: #1967D2;\n",
              "      height: 32px;\n",
              "      padding: 0 0 0 0;\n",
              "      width: 32px;\n",
              "    }\n",
              "\n",
              "    .colab-df-convert:hover {\n",
              "      background-color: #E2EBFA;\n",
              "      box-shadow: 0px 1px 2px rgba(60, 64, 67, 0.3), 0px 1px 3px 1px rgba(60, 64, 67, 0.15);\n",
              "      fill: #174EA6;\n",
              "    }\n",
              "\n",
              "    [theme=dark] .colab-df-convert {\n",
              "      background-color: #3B4455;\n",
              "      fill: #D2E3FC;\n",
              "    }\n",
              "\n",
              "    [theme=dark] .colab-df-convert:hover {\n",
              "      background-color: #434B5C;\n",
              "      box-shadow: 0px 1px 3px 1px rgba(0, 0, 0, 0.15);\n",
              "      filter: drop-shadow(0px 1px 2px rgba(0, 0, 0, 0.3));\n",
              "      fill: #FFFFFF;\n",
              "    }\n",
              "  </style>\n",
              "\n",
              "      <script>\n",
              "        const buttonEl =\n",
              "          document.querySelector('#df-3a567128-0e70-4519-896b-3c3554773ec2 button.colab-df-convert');\n",
              "        buttonEl.style.display =\n",
              "          google.colab.kernel.accessAllowed ? 'block' : 'none';\n",
              "\n",
              "        async function convertToInteractive(key) {\n",
              "          const element = document.querySelector('#df-3a567128-0e70-4519-896b-3c3554773ec2');\n",
              "          const dataTable =\n",
              "            await google.colab.kernel.invokeFunction('convertToInteractive',\n",
              "                                                     [key], {});\n",
              "          if (!dataTable) return;\n",
              "\n",
              "          const docLinkHtml = 'Like what you see? Visit the ' +\n",
              "            '<a target=\"_blank\" href=https://colab.research.google.com/notebooks/data_table.ipynb>data table notebook</a>'\n",
              "            + ' to learn more about interactive tables.';\n",
              "          element.innerHTML = '';\n",
              "          dataTable['output_type'] = 'display_data';\n",
              "          await google.colab.output.renderOutput(dataTable, element);\n",
              "          const docLink = document.createElement('div');\n",
              "          docLink.innerHTML = docLinkHtml;\n",
              "          element.appendChild(docLink);\n",
              "        }\n",
              "      </script>\n",
              "    </div>\n",
              "  </div>\n",
              "  "
            ]
          },
          "metadata": {},
          "execution_count": 32
        }
      ]
    },
    {
      "cell_type": "code",
      "source": [
        "# create month and year columns\n",
        "india_vax['month'] = pd.DatetimeIndex(india_vax['Updated On']).month\n",
        "india_vax['year'] = pd.DatetimeIndex(india_vax['Updated On']).year\n",
        "\n",
        "usa_vax['month'] = pd.DatetimeIndex(usa_vax['Date']).month\n",
        "usa_vax['year'] = pd.DatetimeIndex(usa_vax['Date']).year"
      ],
      "metadata": {
        "id": "HA3U21OleYPC"
      },
      "execution_count": null,
      "outputs": []
    },
    {
      "cell_type": "code",
      "source": [
        "india_vax.head()"
      ],
      "metadata": {
        "colab": {
          "base_uri": "https://localhost:8080/",
          "height": 267
        },
        "id": "nwreGlo3tdE2",
        "outputId": "fb712fec-42b2-4520-ab16-486c37314993"
      },
      "execution_count": null,
      "outputs": [
        {
          "output_type": "execute_result",
          "data": {
            "text/plain": [
              "   Updated On  Total Doses Administered  Male (Individuals Vaccinated)  \\\n",
              "0  16/01/2021                   48276.0                        23757.0   \n",
              "1  17/01/2021                   58604.0                        27348.0   \n",
              "2  18/01/2021                   99449.0                        41361.0   \n",
              "3  19/01/2021                  195525.0                        81901.0   \n",
              "4  20/01/2021                  251280.0                        98111.0   \n",
              "\n",
              "   Female (Individuals Vaccinated)  Transgender (Individuals Vaccinated)  \\\n",
              "0                          24517.0                                   2.0   \n",
              "1                          31252.0                                   4.0   \n",
              "2                          58083.0                                   5.0   \n",
              "3                         113613.0                                  11.0   \n",
              "4                         153145.0                                  24.0   \n",
              "\n",
              "   month  year  \n",
              "0      1  2021  \n",
              "1      1  2021  \n",
              "2      1  2021  \n",
              "3      1  2021  \n",
              "4      1  2021  "
            ],
            "text/html": [
              "\n",
              "  <div id=\"df-4f3ca28a-50f8-4247-b8b8-fc63ac6bad9b\">\n",
              "    <div class=\"colab-df-container\">\n",
              "      <div>\n",
              "<style scoped>\n",
              "    .dataframe tbody tr th:only-of-type {\n",
              "        vertical-align: middle;\n",
              "    }\n",
              "\n",
              "    .dataframe tbody tr th {\n",
              "        vertical-align: top;\n",
              "    }\n",
              "\n",
              "    .dataframe thead th {\n",
              "        text-align: right;\n",
              "    }\n",
              "</style>\n",
              "<table border=\"1\" class=\"dataframe\">\n",
              "  <thead>\n",
              "    <tr style=\"text-align: right;\">\n",
              "      <th></th>\n",
              "      <th>Updated On</th>\n",
              "      <th>Total Doses Administered</th>\n",
              "      <th>Male (Individuals Vaccinated)</th>\n",
              "      <th>Female (Individuals Vaccinated)</th>\n",
              "      <th>Transgender (Individuals Vaccinated)</th>\n",
              "      <th>month</th>\n",
              "      <th>year</th>\n",
              "    </tr>\n",
              "  </thead>\n",
              "  <tbody>\n",
              "    <tr>\n",
              "      <th>0</th>\n",
              "      <td>16/01/2021</td>\n",
              "      <td>48276.0</td>\n",
              "      <td>23757.0</td>\n",
              "      <td>24517.0</td>\n",
              "      <td>2.0</td>\n",
              "      <td>1</td>\n",
              "      <td>2021</td>\n",
              "    </tr>\n",
              "    <tr>\n",
              "      <th>1</th>\n",
              "      <td>17/01/2021</td>\n",
              "      <td>58604.0</td>\n",
              "      <td>27348.0</td>\n",
              "      <td>31252.0</td>\n",
              "      <td>4.0</td>\n",
              "      <td>1</td>\n",
              "      <td>2021</td>\n",
              "    </tr>\n",
              "    <tr>\n",
              "      <th>2</th>\n",
              "      <td>18/01/2021</td>\n",
              "      <td>99449.0</td>\n",
              "      <td>41361.0</td>\n",
              "      <td>58083.0</td>\n",
              "      <td>5.0</td>\n",
              "      <td>1</td>\n",
              "      <td>2021</td>\n",
              "    </tr>\n",
              "    <tr>\n",
              "      <th>3</th>\n",
              "      <td>19/01/2021</td>\n",
              "      <td>195525.0</td>\n",
              "      <td>81901.0</td>\n",
              "      <td>113613.0</td>\n",
              "      <td>11.0</td>\n",
              "      <td>1</td>\n",
              "      <td>2021</td>\n",
              "    </tr>\n",
              "    <tr>\n",
              "      <th>4</th>\n",
              "      <td>20/01/2021</td>\n",
              "      <td>251280.0</td>\n",
              "      <td>98111.0</td>\n",
              "      <td>153145.0</td>\n",
              "      <td>24.0</td>\n",
              "      <td>1</td>\n",
              "      <td>2021</td>\n",
              "    </tr>\n",
              "  </tbody>\n",
              "</table>\n",
              "</div>\n",
              "      <button class=\"colab-df-convert\" onclick=\"convertToInteractive('df-4f3ca28a-50f8-4247-b8b8-fc63ac6bad9b')\"\n",
              "              title=\"Convert this dataframe to an interactive table.\"\n",
              "              style=\"display:none;\">\n",
              "        \n",
              "  <svg xmlns=\"http://www.w3.org/2000/svg\" height=\"24px\"viewBox=\"0 0 24 24\"\n",
              "       width=\"24px\">\n",
              "    <path d=\"M0 0h24v24H0V0z\" fill=\"none\"/>\n",
              "    <path d=\"M18.56 5.44l.94 2.06.94-2.06 2.06-.94-2.06-.94-.94-2.06-.94 2.06-2.06.94zm-11 1L8.5 8.5l.94-2.06 2.06-.94-2.06-.94L8.5 2.5l-.94 2.06-2.06.94zm10 10l.94 2.06.94-2.06 2.06-.94-2.06-.94-.94-2.06-.94 2.06-2.06.94z\"/><path d=\"M17.41 7.96l-1.37-1.37c-.4-.4-.92-.59-1.43-.59-.52 0-1.04.2-1.43.59L10.3 9.45l-7.72 7.72c-.78.78-.78 2.05 0 2.83L4 21.41c.39.39.9.59 1.41.59.51 0 1.02-.2 1.41-.59l7.78-7.78 2.81-2.81c.8-.78.8-2.07 0-2.86zM5.41 20L4 18.59l7.72-7.72 1.47 1.35L5.41 20z\"/>\n",
              "  </svg>\n",
              "      </button>\n",
              "      \n",
              "  <style>\n",
              "    .colab-df-container {\n",
              "      display:flex;\n",
              "      flex-wrap:wrap;\n",
              "      gap: 12px;\n",
              "    }\n",
              "\n",
              "    .colab-df-convert {\n",
              "      background-color: #E8F0FE;\n",
              "      border: none;\n",
              "      border-radius: 50%;\n",
              "      cursor: pointer;\n",
              "      display: none;\n",
              "      fill: #1967D2;\n",
              "      height: 32px;\n",
              "      padding: 0 0 0 0;\n",
              "      width: 32px;\n",
              "    }\n",
              "\n",
              "    .colab-df-convert:hover {\n",
              "      background-color: #E2EBFA;\n",
              "      box-shadow: 0px 1px 2px rgba(60, 64, 67, 0.3), 0px 1px 3px 1px rgba(60, 64, 67, 0.15);\n",
              "      fill: #174EA6;\n",
              "    }\n",
              "\n",
              "    [theme=dark] .colab-df-convert {\n",
              "      background-color: #3B4455;\n",
              "      fill: #D2E3FC;\n",
              "    }\n",
              "\n",
              "    [theme=dark] .colab-df-convert:hover {\n",
              "      background-color: #434B5C;\n",
              "      box-shadow: 0px 1px 3px 1px rgba(0, 0, 0, 0.15);\n",
              "      filter: drop-shadow(0px 1px 2px rgba(0, 0, 0, 0.3));\n",
              "      fill: #FFFFFF;\n",
              "    }\n",
              "  </style>\n",
              "\n",
              "      <script>\n",
              "        const buttonEl =\n",
              "          document.querySelector('#df-4f3ca28a-50f8-4247-b8b8-fc63ac6bad9b button.colab-df-convert');\n",
              "        buttonEl.style.display =\n",
              "          google.colab.kernel.accessAllowed ? 'block' : 'none';\n",
              "\n",
              "        async function convertToInteractive(key) {\n",
              "          const element = document.querySelector('#df-4f3ca28a-50f8-4247-b8b8-fc63ac6bad9b');\n",
              "          const dataTable =\n",
              "            await google.colab.kernel.invokeFunction('convertToInteractive',\n",
              "                                                     [key], {});\n",
              "          if (!dataTable) return;\n",
              "\n",
              "          const docLinkHtml = 'Like what you see? Visit the ' +\n",
              "            '<a target=\"_blank\" href=https://colab.research.google.com/notebooks/data_table.ipynb>data table notebook</a>'\n",
              "            + ' to learn more about interactive tables.';\n",
              "          element.innerHTML = '';\n",
              "          dataTable['output_type'] = 'display_data';\n",
              "          await google.colab.output.renderOutput(dataTable, element);\n",
              "          const docLink = document.createElement('div');\n",
              "          docLink.innerHTML = docLinkHtml;\n",
              "          element.appendChild(docLink);\n",
              "        }\n",
              "      </script>\n",
              "    </div>\n",
              "  </div>\n",
              "  "
            ]
          },
          "metadata": {},
          "execution_count": 34
        }
      ]
    },
    {
      "cell_type": "code",
      "source": [
        "# group dataframes by month and year\n",
        "\n",
        "india_vax_monthwise = india_vax.groupby(['month','year']).sum().reset_index()\n",
        "\n",
        "usa_vax_monthwise = usa_vax.groupby(['month','year']).sum().reset_index()"
      ],
      "metadata": {
        "id": "DXt-1d-viHLB"
      },
      "execution_count": null,
      "outputs": []
    },
    {
      "cell_type": "code",
      "source": [
        "india_vax[(india_vax['month'] == 1) & (india_vax['year'] == 2021)]"
      ],
      "metadata": {
        "colab": {
          "base_uri": "https://localhost:8080/",
          "height": 485
        },
        "id": "GL9ePnE8mJk1",
        "outputId": "02e9fa2f-0a9c-4d0f-fe1a-60077bf66234"
      },
      "execution_count": null,
      "outputs": [
        {
          "output_type": "execute_result",
          "data": {
            "text/plain": [
              "       Updated On  Total Doses Administered  Male (Individuals Vaccinated)  \\\n",
              "0      16/01/2021                   48276.0                        23757.0   \n",
              "1      17/01/2021                   58604.0                        27348.0   \n",
              "2      18/01/2021                   99449.0                        41361.0   \n",
              "3      19/01/2021                  195525.0                        81901.0   \n",
              "4      20/01/2021                  251280.0                        98111.0   \n",
              "...           ...                       ...                            ...   \n",
              "10540  01/06/2021                14969157.0                      6194489.0   \n",
              "10570  01/07/2021                22009840.0                            NaN   \n",
              "10601  01/08/2021                29805755.0                            NaN   \n",
              "10632  01/09/2021                41608366.0                            NaN   \n",
              "10662  01/10/2021                       NaN                            NaN   \n",
              "\n",
              "       Female (Individuals Vaccinated)  Transgender (Individuals Vaccinated)  \\\n",
              "0                              24517.0                                   2.0   \n",
              "1                              31252.0                                   4.0   \n",
              "2                              58083.0                                   5.0   \n",
              "3                             113613.0                                  11.0   \n",
              "4                             153145.0                                  24.0   \n",
              "...                                ...                                   ...   \n",
              "10540                        4879421.0                                1484.0   \n",
              "10570                              NaN                                   NaN   \n",
              "10601                              NaN                                   NaN   \n",
              "10632                              NaN                                   NaN   \n",
              "10662                              NaN                                   NaN   \n",
              "\n",
              "       month  year  \n",
              "0          1  2021  \n",
              "1          1  2021  \n",
              "2          1  2021  \n",
              "3          1  2021  \n",
              "4          1  2021  \n",
              "...      ...   ...  \n",
              "10540      1  2021  \n",
              "10570      1  2021  \n",
              "10601      1  2021  \n",
              "10632      1  2021  \n",
              "10662      1  2021  \n",
              "\n",
              "[925 rows x 7 columns]"
            ],
            "text/html": [
              "\n",
              "  <div id=\"df-3b42c254-836d-48cb-bcb1-2cb100945e7a\">\n",
              "    <div class=\"colab-df-container\">\n",
              "      <div>\n",
              "<style scoped>\n",
              "    .dataframe tbody tr th:only-of-type {\n",
              "        vertical-align: middle;\n",
              "    }\n",
              "\n",
              "    .dataframe tbody tr th {\n",
              "        vertical-align: top;\n",
              "    }\n",
              "\n",
              "    .dataframe thead th {\n",
              "        text-align: right;\n",
              "    }\n",
              "</style>\n",
              "<table border=\"1\" class=\"dataframe\">\n",
              "  <thead>\n",
              "    <tr style=\"text-align: right;\">\n",
              "      <th></th>\n",
              "      <th>Updated On</th>\n",
              "      <th>Total Doses Administered</th>\n",
              "      <th>Male (Individuals Vaccinated)</th>\n",
              "      <th>Female (Individuals Vaccinated)</th>\n",
              "      <th>Transgender (Individuals Vaccinated)</th>\n",
              "      <th>month</th>\n",
              "      <th>year</th>\n",
              "    </tr>\n",
              "  </thead>\n",
              "  <tbody>\n",
              "    <tr>\n",
              "      <th>0</th>\n",
              "      <td>16/01/2021</td>\n",
              "      <td>48276.0</td>\n",
              "      <td>23757.0</td>\n",
              "      <td>24517.0</td>\n",
              "      <td>2.0</td>\n",
              "      <td>1</td>\n",
              "      <td>2021</td>\n",
              "    </tr>\n",
              "    <tr>\n",
              "      <th>1</th>\n",
              "      <td>17/01/2021</td>\n",
              "      <td>58604.0</td>\n",
              "      <td>27348.0</td>\n",
              "      <td>31252.0</td>\n",
              "      <td>4.0</td>\n",
              "      <td>1</td>\n",
              "      <td>2021</td>\n",
              "    </tr>\n",
              "    <tr>\n",
              "      <th>2</th>\n",
              "      <td>18/01/2021</td>\n",
              "      <td>99449.0</td>\n",
              "      <td>41361.0</td>\n",
              "      <td>58083.0</td>\n",
              "      <td>5.0</td>\n",
              "      <td>1</td>\n",
              "      <td>2021</td>\n",
              "    </tr>\n",
              "    <tr>\n",
              "      <th>3</th>\n",
              "      <td>19/01/2021</td>\n",
              "      <td>195525.0</td>\n",
              "      <td>81901.0</td>\n",
              "      <td>113613.0</td>\n",
              "      <td>11.0</td>\n",
              "      <td>1</td>\n",
              "      <td>2021</td>\n",
              "    </tr>\n",
              "    <tr>\n",
              "      <th>4</th>\n",
              "      <td>20/01/2021</td>\n",
              "      <td>251280.0</td>\n",
              "      <td>98111.0</td>\n",
              "      <td>153145.0</td>\n",
              "      <td>24.0</td>\n",
              "      <td>1</td>\n",
              "      <td>2021</td>\n",
              "    </tr>\n",
              "    <tr>\n",
              "      <th>...</th>\n",
              "      <td>...</td>\n",
              "      <td>...</td>\n",
              "      <td>...</td>\n",
              "      <td>...</td>\n",
              "      <td>...</td>\n",
              "      <td>...</td>\n",
              "      <td>...</td>\n",
              "    </tr>\n",
              "    <tr>\n",
              "      <th>10540</th>\n",
              "      <td>01/06/2021</td>\n",
              "      <td>14969157.0</td>\n",
              "      <td>6194489.0</td>\n",
              "      <td>4879421.0</td>\n",
              "      <td>1484.0</td>\n",
              "      <td>1</td>\n",
              "      <td>2021</td>\n",
              "    </tr>\n",
              "    <tr>\n",
              "      <th>10570</th>\n",
              "      <td>01/07/2021</td>\n",
              "      <td>22009840.0</td>\n",
              "      <td>NaN</td>\n",
              "      <td>NaN</td>\n",
              "      <td>NaN</td>\n",
              "      <td>1</td>\n",
              "      <td>2021</td>\n",
              "    </tr>\n",
              "    <tr>\n",
              "      <th>10601</th>\n",
              "      <td>01/08/2021</td>\n",
              "      <td>29805755.0</td>\n",
              "      <td>NaN</td>\n",
              "      <td>NaN</td>\n",
              "      <td>NaN</td>\n",
              "      <td>1</td>\n",
              "      <td>2021</td>\n",
              "    </tr>\n",
              "    <tr>\n",
              "      <th>10632</th>\n",
              "      <td>01/09/2021</td>\n",
              "      <td>41608366.0</td>\n",
              "      <td>NaN</td>\n",
              "      <td>NaN</td>\n",
              "      <td>NaN</td>\n",
              "      <td>1</td>\n",
              "      <td>2021</td>\n",
              "    </tr>\n",
              "    <tr>\n",
              "      <th>10662</th>\n",
              "      <td>01/10/2021</td>\n",
              "      <td>NaN</td>\n",
              "      <td>NaN</td>\n",
              "      <td>NaN</td>\n",
              "      <td>NaN</td>\n",
              "      <td>1</td>\n",
              "      <td>2021</td>\n",
              "    </tr>\n",
              "  </tbody>\n",
              "</table>\n",
              "<p>925 rows × 7 columns</p>\n",
              "</div>\n",
              "      <button class=\"colab-df-convert\" onclick=\"convertToInteractive('df-3b42c254-836d-48cb-bcb1-2cb100945e7a')\"\n",
              "              title=\"Convert this dataframe to an interactive table.\"\n",
              "              style=\"display:none;\">\n",
              "        \n",
              "  <svg xmlns=\"http://www.w3.org/2000/svg\" height=\"24px\"viewBox=\"0 0 24 24\"\n",
              "       width=\"24px\">\n",
              "    <path d=\"M0 0h24v24H0V0z\" fill=\"none\"/>\n",
              "    <path d=\"M18.56 5.44l.94 2.06.94-2.06 2.06-.94-2.06-.94-.94-2.06-.94 2.06-2.06.94zm-11 1L8.5 8.5l.94-2.06 2.06-.94-2.06-.94L8.5 2.5l-.94 2.06-2.06.94zm10 10l.94 2.06.94-2.06 2.06-.94-2.06-.94-.94-2.06-.94 2.06-2.06.94z\"/><path d=\"M17.41 7.96l-1.37-1.37c-.4-.4-.92-.59-1.43-.59-.52 0-1.04.2-1.43.59L10.3 9.45l-7.72 7.72c-.78.78-.78 2.05 0 2.83L4 21.41c.39.39.9.59 1.41.59.51 0 1.02-.2 1.41-.59l7.78-7.78 2.81-2.81c.8-.78.8-2.07 0-2.86zM5.41 20L4 18.59l7.72-7.72 1.47 1.35L5.41 20z\"/>\n",
              "  </svg>\n",
              "      </button>\n",
              "      \n",
              "  <style>\n",
              "    .colab-df-container {\n",
              "      display:flex;\n",
              "      flex-wrap:wrap;\n",
              "      gap: 12px;\n",
              "    }\n",
              "\n",
              "    .colab-df-convert {\n",
              "      background-color: #E8F0FE;\n",
              "      border: none;\n",
              "      border-radius: 50%;\n",
              "      cursor: pointer;\n",
              "      display: none;\n",
              "      fill: #1967D2;\n",
              "      height: 32px;\n",
              "      padding: 0 0 0 0;\n",
              "      width: 32px;\n",
              "    }\n",
              "\n",
              "    .colab-df-convert:hover {\n",
              "      background-color: #E2EBFA;\n",
              "      box-shadow: 0px 1px 2px rgba(60, 64, 67, 0.3), 0px 1px 3px 1px rgba(60, 64, 67, 0.15);\n",
              "      fill: #174EA6;\n",
              "    }\n",
              "\n",
              "    [theme=dark] .colab-df-convert {\n",
              "      background-color: #3B4455;\n",
              "      fill: #D2E3FC;\n",
              "    }\n",
              "\n",
              "    [theme=dark] .colab-df-convert:hover {\n",
              "      background-color: #434B5C;\n",
              "      box-shadow: 0px 1px 3px 1px rgba(0, 0, 0, 0.15);\n",
              "      filter: drop-shadow(0px 1px 2px rgba(0, 0, 0, 0.3));\n",
              "      fill: #FFFFFF;\n",
              "    }\n",
              "  </style>\n",
              "\n",
              "      <script>\n",
              "        const buttonEl =\n",
              "          document.querySelector('#df-3b42c254-836d-48cb-bcb1-2cb100945e7a button.colab-df-convert');\n",
              "        buttonEl.style.display =\n",
              "          google.colab.kernel.accessAllowed ? 'block' : 'none';\n",
              "\n",
              "        async function convertToInteractive(key) {\n",
              "          const element = document.querySelector('#df-3b42c254-836d-48cb-bcb1-2cb100945e7a');\n",
              "          const dataTable =\n",
              "            await google.colab.kernel.invokeFunction('convertToInteractive',\n",
              "                                                     [key], {});\n",
              "          if (!dataTable) return;\n",
              "\n",
              "          const docLinkHtml = 'Like what you see? Visit the ' +\n",
              "            '<a target=\"_blank\" href=https://colab.research.google.com/notebooks/data_table.ipynb>data table notebook</a>'\n",
              "            + ' to learn more about interactive tables.';\n",
              "          element.innerHTML = '';\n",
              "          dataTable['output_type'] = 'display_data';\n",
              "          await google.colab.output.renderOutput(dataTable, element);\n",
              "          const docLink = document.createElement('div');\n",
              "          docLink.innerHTML = docLinkHtml;\n",
              "          element.appendChild(docLink);\n",
              "        }\n",
              "      </script>\n",
              "    </div>\n",
              "  </div>\n",
              "  "
            ]
          },
          "metadata": {},
          "execution_count": 59
        }
      ]
    },
    {
      "cell_type": "code",
      "source": [
        "india_vax_monthwise.head()"
      ],
      "metadata": {
        "colab": {
          "base_uri": "https://localhost:8080/",
          "height": 206
        },
        "id": "j7uEJx2RrWFf",
        "outputId": "a3d6d6f6-26c7-41e0-8bd5-89ccc958fc7e"
      },
      "execution_count": null,
      "outputs": [
        {
          "output_type": "execute_result",
          "data": {
            "text/plain": [
              "   month  year  Total Doses Administered  Male (Individuals Vaccinated)  \\\n",
              "0      1  2021              3.865919e+09                   4.024820e+08   \n",
              "1      2  2021              4.222649e+09                   5.551354e+08   \n",
              "2      3  2021              5.687052e+09                   1.209493e+09   \n",
              "3      4  2021              8.697618e+09                   2.515578e+09   \n",
              "4      5  2021              1.135651e+10                   3.469072e+09   \n",
              "\n",
              "   Female (Individuals Vaccinated)  Transgender (Individuals Vaccinated)  \n",
              "0                     3.726244e+08                              108286.0  \n",
              "1                     5.037422e+08                              143577.0  \n",
              "2                     1.058344e+09                              270630.0  \n",
              "3                     2.298128e+09                              621472.0  \n",
              "4                     3.074867e+09                              961420.0  "
            ],
            "text/html": [
              "\n",
              "  <div id=\"df-c193f9d4-6f6e-492a-8e7c-9bee368489ee\">\n",
              "    <div class=\"colab-df-container\">\n",
              "      <div>\n",
              "<style scoped>\n",
              "    .dataframe tbody tr th:only-of-type {\n",
              "        vertical-align: middle;\n",
              "    }\n",
              "\n",
              "    .dataframe tbody tr th {\n",
              "        vertical-align: top;\n",
              "    }\n",
              "\n",
              "    .dataframe thead th {\n",
              "        text-align: right;\n",
              "    }\n",
              "</style>\n",
              "<table border=\"1\" class=\"dataframe\">\n",
              "  <thead>\n",
              "    <tr style=\"text-align: right;\">\n",
              "      <th></th>\n",
              "      <th>month</th>\n",
              "      <th>year</th>\n",
              "      <th>Total Doses Administered</th>\n",
              "      <th>Male (Individuals Vaccinated)</th>\n",
              "      <th>Female (Individuals Vaccinated)</th>\n",
              "      <th>Transgender (Individuals Vaccinated)</th>\n",
              "    </tr>\n",
              "  </thead>\n",
              "  <tbody>\n",
              "    <tr>\n",
              "      <th>0</th>\n",
              "      <td>1</td>\n",
              "      <td>2021</td>\n",
              "      <td>3.865919e+09</td>\n",
              "      <td>4.024820e+08</td>\n",
              "      <td>3.726244e+08</td>\n",
              "      <td>108286.0</td>\n",
              "    </tr>\n",
              "    <tr>\n",
              "      <th>1</th>\n",
              "      <td>2</td>\n",
              "      <td>2021</td>\n",
              "      <td>4.222649e+09</td>\n",
              "      <td>5.551354e+08</td>\n",
              "      <td>5.037422e+08</td>\n",
              "      <td>143577.0</td>\n",
              "    </tr>\n",
              "    <tr>\n",
              "      <th>2</th>\n",
              "      <td>3</td>\n",
              "      <td>2021</td>\n",
              "      <td>5.687052e+09</td>\n",
              "      <td>1.209493e+09</td>\n",
              "      <td>1.058344e+09</td>\n",
              "      <td>270630.0</td>\n",
              "    </tr>\n",
              "    <tr>\n",
              "      <th>3</th>\n",
              "      <td>4</td>\n",
              "      <td>2021</td>\n",
              "      <td>8.697618e+09</td>\n",
              "      <td>2.515578e+09</td>\n",
              "      <td>2.298128e+09</td>\n",
              "      <td>621472.0</td>\n",
              "    </tr>\n",
              "    <tr>\n",
              "      <th>4</th>\n",
              "      <td>5</td>\n",
              "      <td>2021</td>\n",
              "      <td>1.135651e+10</td>\n",
              "      <td>3.469072e+09</td>\n",
              "      <td>3.074867e+09</td>\n",
              "      <td>961420.0</td>\n",
              "    </tr>\n",
              "  </tbody>\n",
              "</table>\n",
              "</div>\n",
              "      <button class=\"colab-df-convert\" onclick=\"convertToInteractive('df-c193f9d4-6f6e-492a-8e7c-9bee368489ee')\"\n",
              "              title=\"Convert this dataframe to an interactive table.\"\n",
              "              style=\"display:none;\">\n",
              "        \n",
              "  <svg xmlns=\"http://www.w3.org/2000/svg\" height=\"24px\"viewBox=\"0 0 24 24\"\n",
              "       width=\"24px\">\n",
              "    <path d=\"M0 0h24v24H0V0z\" fill=\"none\"/>\n",
              "    <path d=\"M18.56 5.44l.94 2.06.94-2.06 2.06-.94-2.06-.94-.94-2.06-.94 2.06-2.06.94zm-11 1L8.5 8.5l.94-2.06 2.06-.94-2.06-.94L8.5 2.5l-.94 2.06-2.06.94zm10 10l.94 2.06.94-2.06 2.06-.94-2.06-.94-.94-2.06-.94 2.06-2.06.94z\"/><path d=\"M17.41 7.96l-1.37-1.37c-.4-.4-.92-.59-1.43-.59-.52 0-1.04.2-1.43.59L10.3 9.45l-7.72 7.72c-.78.78-.78 2.05 0 2.83L4 21.41c.39.39.9.59 1.41.59.51 0 1.02-.2 1.41-.59l7.78-7.78 2.81-2.81c.8-.78.8-2.07 0-2.86zM5.41 20L4 18.59l7.72-7.72 1.47 1.35L5.41 20z\"/>\n",
              "  </svg>\n",
              "      </button>\n",
              "      \n",
              "  <style>\n",
              "    .colab-df-container {\n",
              "      display:flex;\n",
              "      flex-wrap:wrap;\n",
              "      gap: 12px;\n",
              "    }\n",
              "\n",
              "    .colab-df-convert {\n",
              "      background-color: #E8F0FE;\n",
              "      border: none;\n",
              "      border-radius: 50%;\n",
              "      cursor: pointer;\n",
              "      display: none;\n",
              "      fill: #1967D2;\n",
              "      height: 32px;\n",
              "      padding: 0 0 0 0;\n",
              "      width: 32px;\n",
              "    }\n",
              "\n",
              "    .colab-df-convert:hover {\n",
              "      background-color: #E2EBFA;\n",
              "      box-shadow: 0px 1px 2px rgba(60, 64, 67, 0.3), 0px 1px 3px 1px rgba(60, 64, 67, 0.15);\n",
              "      fill: #174EA6;\n",
              "    }\n",
              "\n",
              "    [theme=dark] .colab-df-convert {\n",
              "      background-color: #3B4455;\n",
              "      fill: #D2E3FC;\n",
              "    }\n",
              "\n",
              "    [theme=dark] .colab-df-convert:hover {\n",
              "      background-color: #434B5C;\n",
              "      box-shadow: 0px 1px 3px 1px rgba(0, 0, 0, 0.15);\n",
              "      filter: drop-shadow(0px 1px 2px rgba(0, 0, 0, 0.3));\n",
              "      fill: #FFFFFF;\n",
              "    }\n",
              "  </style>\n",
              "\n",
              "      <script>\n",
              "        const buttonEl =\n",
              "          document.querySelector('#df-c193f9d4-6f6e-492a-8e7c-9bee368489ee button.colab-df-convert');\n",
              "        buttonEl.style.display =\n",
              "          google.colab.kernel.accessAllowed ? 'block' : 'none';\n",
              "\n",
              "        async function convertToInteractive(key) {\n",
              "          const element = document.querySelector('#df-c193f9d4-6f6e-492a-8e7c-9bee368489ee');\n",
              "          const dataTable =\n",
              "            await google.colab.kernel.invokeFunction('convertToInteractive',\n",
              "                                                     [key], {});\n",
              "          if (!dataTable) return;\n",
              "\n",
              "          const docLinkHtml = 'Like what you see? Visit the ' +\n",
              "            '<a target=\"_blank\" href=https://colab.research.google.com/notebooks/data_table.ipynb>data table notebook</a>'\n",
              "            + ' to learn more about interactive tables.';\n",
              "          element.innerHTML = '';\n",
              "          dataTable['output_type'] = 'display_data';\n",
              "          await google.colab.output.renderOutput(dataTable, element);\n",
              "          const docLink = document.createElement('div');\n",
              "          docLink.innerHTML = docLinkHtml;\n",
              "          element.appendChild(docLink);\n",
              "        }\n",
              "      </script>\n",
              "    </div>\n",
              "  </div>\n",
              "  "
            ]
          },
          "metadata": {},
          "execution_count": 60
        }
      ]
    },
    {
      "cell_type": "code",
      "source": [
        "# combine month and year into index of dataframe\n",
        "\n",
        "india_vax_monthwise['month_year'] =  india_vax_monthwise['year'].apply(str) + '-' + india_vax_monthwise['month'].apply(str)\n",
        "\n",
        "usa_vax_monthwise['month_year'] =  usa_vax_monthwise['year'].apply(str) + '-' + usa_vax_monthwise['month'].apply(str)"
      ],
      "metadata": {
        "id": "VUAysXGEjiBc"
      },
      "execution_count": null,
      "outputs": []
    },
    {
      "cell_type": "code",
      "source": [
        "# merge the india and usa dataframes into one\n",
        "monthly_vax = pd.merge(left = india_vax_monthwise, right = usa_vax_monthwise, \n",
        "                       how = 'inner', left_on = 'month_year', right_on = 'month_year')"
      ],
      "metadata": {
        "id": "9KHFQXtvj1oW"
      },
      "execution_count": null,
      "outputs": []
    },
    {
      "cell_type": "code",
      "source": [
        "# drop and rename columns\n",
        "monthly_vax = monthly_vax.rename(columns = {'Total Doses Administered':'doses_india', 'Total Doses Administered Daily':'doses_usa',})\n",
        "monthly_vax.drop(['month_y', 'year_y'], axis=1, inplace=True)"
      ],
      "metadata": {
        "id": "ZQ3ahzwTkI_Y"
      },
      "execution_count": null,
      "outputs": []
    },
    {
      "cell_type": "code",
      "source": [
        "monthly_vax['doses_india'] = (monthly_vax['doses_india']/1000000000).round(2)\n",
        "monthly_vax['doses_usa'] = (monthly_vax['doses_usa']/1000000000).round(2)"
      ],
      "metadata": {
        "id": "RkUZKnfAvxsh"
      },
      "execution_count": null,
      "outputs": []
    },
    {
      "cell_type": "code",
      "source": [
        "# plot the dataframe\n",
        "plot_title = \"Monthly Doses Administered\"\n",
        "\n",
        "x = 'month_year'\n",
        "y = ['doses_india', 'doses_usa']\n",
        "\n",
        "monthly_vax.plot(x, y, figsize=(20,5))\n",
        "plt.title(plot_title)\n",
        "plt.xlabel('month-year')\n",
        "plt.ylabel('no. of doses in 10^9')\n",
        "\n"
      ],
      "metadata": {
        "colab": {
          "base_uri": "https://localhost:8080/",
          "height": 366
        },
        "id": "mx7VmufslgTA",
        "outputId": "ecb46303-b0fe-4a46-d2bf-3182d4939590"
      },
      "execution_count": null,
      "outputs": [
        {
          "output_type": "execute_result",
          "data": {
            "text/plain": [
              "Text(0, 0.5, 'no. of doses in 10^9')"
            ]
          },
          "metadata": {},
          "execution_count": 66
        },
        {
          "output_type": "display_data",
          "data": {
            "text/plain": [
              "<Figure size 1440x360 with 1 Axes>"
            ],
            "image/png": "[encoded data removed]"
          },
          "metadata": {
            "needs_background": "light"
          }
        }
      ]
    },
    {
      "cell_type": "code",
      "source": [
        "monthly_vax['Male (Individuals Vaccinated)'] = ((monthly_vax['Male (Individuals Vaccinated)'] - monthly_vax['Male (Individuals Vaccinated)'].min())\n",
        "                                                /(monthly_vax['Male (Individuals Vaccinated)'].max() - monthly_vax['Male (Individuals Vaccinated)'].min())).round(2)\n",
        "                                                \n",
        "monthly_vax['Female (Individuals Vaccinated)'] = ((monthly_vax['Female (Individuals Vaccinated)'] - monthly_vax['Female (Individuals Vaccinated)'].min())\n",
        "                                                /(monthly_vax['Female (Individuals Vaccinated)'].max() - monthly_vax['Female (Individuals Vaccinated)'].min())).round(2)\n",
        "\n",
        "monthly_vax['Transgender (Individuals Vaccinated)'] = ((monthly_vax['Transgender (Individuals Vaccinated)'] - monthly_vax['Transgender (Individuals Vaccinated)'].min())\n",
        "                                                /(monthly_vax['Transgender (Individuals Vaccinated)'].max() - monthly_vax['Transgender (Individuals Vaccinated)'].min())).round(2)\n"
      ],
      "metadata": {
        "id": "MRUAbAMK2UrJ"
      },
      "execution_count": null,
      "outputs": []
    },
    {
      "cell_type": "code",
      "source": [
        "# plot male/female/trans people vaccine uptake trends in india\n",
        "\n",
        "plot_title = \"Vaccination trends of males, females, and transgender people in India\"\n",
        "x = \"month_year\"\n",
        "y = [\"Male (Individuals Vaccinated)\", \"Female (Individuals Vaccinated)\", \"Transgender (Individuals Vaccinated)\"]\n",
        "#y = \"Transgender (Individuals Vaccinated)\"\n",
        "\n",
        "monthly_vax.plot(x, y, figsize=(20,5))\n",
        "plt.title(plot_title)\n",
        "plt.xlabel('month-year')\n",
        "plt.ylabel('no. of individuals')"
      ],
      "metadata": {
        "colab": {
          "base_uri": "https://localhost:8080/",
          "height": 365
        },
        "id": "heX-9QBHxZ_o",
        "outputId": "63612ef0-fdd5-4673-c163-b1c1b0aeb06a"
      },
      "execution_count": null,
      "outputs": [
        {
          "output_type": "execute_result",
          "data": {
            "text/plain": [
              "Text(0, 0.5, 'no. of individuals')"
            ]
          },
          "metadata": {},
          "execution_count": 52
        },
        {
          "output_type": "display_data",
          "data": {
            "text/plain": [
              "<Figure size 1440x360 with 1 Axes>"
            ],
            "image/png": "[encoded data removed]"
          },
          "metadata": {
            "needs_background": "light"
          }
        }
      ]
    },
    {
      "cell_type": "code",
      "source": [
        "monthly_vax.tail()"
      ],
      "metadata": {
        "colab": {
          "base_uri": "https://localhost:8080/",
          "height": 267
        },
        "id": "CY9BMNmgjWG-",
        "outputId": "24c48e57-a86b-44ca-bf2c-fcc1ccc305f7"
      },
      "execution_count": null,
      "outputs": [
        {
          "output_type": "execute_result",
          "data": {
            "text/plain": [
              "    month_x  year_x  doses_india  Male (Individuals Vaccinated)  \\\n",
              "7         8    2021        26.51                    451498494.0   \n",
              "8         9    2021        32.13                    460947708.0   \n",
              "9        10    2021         4.30                    471042661.0   \n",
              "10       11    2021         4.35                    480123501.0   \n",
              "11       12    2021         4.41                    491440115.0   \n",
              "\n",
              "    Female (Individuals Vaccinated)  Transgender (Individuals Vaccinated)  \\\n",
              "7                       401166951.0                              123748.0   \n",
              "8                       409161373.0                              126973.0   \n",
              "9                       417397697.0                              130433.0   \n",
              "10                      424730730.0                              133539.0   \n",
              "11                      433823957.0                              137085.0   \n",
              "\n",
              "   month_year  doses_usa  \n",
              "7      2021-8       0.02  \n",
              "8      2021-9       0.02  \n",
              "9     2021-10       0.03  \n",
              "10    2021-11       0.04  \n",
              "11    2021-12       0.05  "
            ],
            "text/html": [
              "\n",
              "  <div id=\"df-d9d34697-a7ec-49b6-981b-a8f9c4ffdca0\">\n",
              "    <div class=\"colab-df-container\">\n",
              "      <div>\n",
              "<style scoped>\n",
              "    .dataframe tbody tr th:only-of-type {\n",
              "        vertical-align: middle;\n",
              "    }\n",
              "\n",
              "    .dataframe tbody tr th {\n",
              "        vertical-align: top;\n",
              "    }\n",
              "\n",
              "    .dataframe thead th {\n",
              "        text-align: right;\n",
              "    }\n",
              "</style>\n",
              "<table border=\"1\" class=\"dataframe\">\n",
              "  <thead>\n",
              "    <tr style=\"text-align: right;\">\n",
              "      <th></th>\n",
              "      <th>month_x</th>\n",
              "      <th>year_x</th>\n",
              "      <th>doses_india</th>\n",
              "      <th>Male (Individuals Vaccinated)</th>\n",
              "      <th>Female (Individuals Vaccinated)</th>\n",
              "      <th>Transgender (Individuals Vaccinated)</th>\n",
              "      <th>month_year</th>\n",
              "      <th>doses_usa</th>\n",
              "    </tr>\n",
              "  </thead>\n",
              "  <tbody>\n",
              "    <tr>\n",
              "      <th>7</th>\n",
              "      <td>8</td>\n",
              "      <td>2021</td>\n",
              "      <td>26.51</td>\n",
              "      <td>451498494.0</td>\n",
              "      <td>401166951.0</td>\n",
              "      <td>123748.0</td>\n",
              "      <td>2021-8</td>\n",
              "      <td>0.02</td>\n",
              "    </tr>\n",
              "    <tr>\n",
              "      <th>8</th>\n",
              "      <td>9</td>\n",
              "      <td>2021</td>\n",
              "      <td>32.13</td>\n",
              "      <td>460947708.0</td>\n",
              "      <td>409161373.0</td>\n",
              "      <td>126973.0</td>\n",
              "      <td>2021-9</td>\n",
              "      <td>0.02</td>\n",
              "    </tr>\n",
              "    <tr>\n",
              "      <th>9</th>\n",
              "      <td>10</td>\n",
              "      <td>2021</td>\n",
              "      <td>4.30</td>\n",
              "      <td>471042661.0</td>\n",
              "      <td>417397697.0</td>\n",
              "      <td>130433.0</td>\n",
              "      <td>2021-10</td>\n",
              "      <td>0.03</td>\n",
              "    </tr>\n",
              "    <tr>\n",
              "      <th>10</th>\n",
              "      <td>11</td>\n",
              "      <td>2021</td>\n",
              "      <td>4.35</td>\n",
              "      <td>480123501.0</td>\n",
              "      <td>424730730.0</td>\n",
              "      <td>133539.0</td>\n",
              "      <td>2021-11</td>\n",
              "      <td>0.04</td>\n",
              "    </tr>\n",
              "    <tr>\n",
              "      <th>11</th>\n",
              "      <td>12</td>\n",
              "      <td>2021</td>\n",
              "      <td>4.41</td>\n",
              "      <td>491440115.0</td>\n",
              "      <td>433823957.0</td>\n",
              "      <td>137085.0</td>\n",
              "      <td>2021-12</td>\n",
              "      <td>0.05</td>\n",
              "    </tr>\n",
              "  </tbody>\n",
              "</table>\n",
              "</div>\n",
              "      <button class=\"colab-df-convert\" onclick=\"convertToInteractive('df-d9d34697-a7ec-49b6-981b-a8f9c4ffdca0')\"\n",
              "              title=\"Convert this dataframe to an interactive table.\"\n",
              "              style=\"display:none;\">\n",
              "        \n",
              "  <svg xmlns=\"http://www.w3.org/2000/svg\" height=\"24px\"viewBox=\"0 0 24 24\"\n",
              "       width=\"24px\">\n",
              "    <path d=\"M0 0h24v24H0V0z\" fill=\"none\"/>\n",
              "    <path d=\"M18.56 5.44l.94 2.06.94-2.06 2.06-.94-2.06-.94-.94-2.06-.94 2.06-2.06.94zm-11 1L8.5 8.5l.94-2.06 2.06-.94-2.06-.94L8.5 2.5l-.94 2.06-2.06.94zm10 10l.94 2.06.94-2.06 2.06-.94-2.06-.94-.94-2.06-.94 2.06-2.06.94z\"/><path d=\"M17.41 7.96l-1.37-1.37c-.4-.4-.92-.59-1.43-.59-.52 0-1.04.2-1.43.59L10.3 9.45l-7.72 7.72c-.78.78-.78 2.05 0 2.83L4 21.41c.39.39.9.59 1.41.59.51 0 1.02-.2 1.41-.59l7.78-7.78 2.81-2.81c.8-.78.8-2.07 0-2.86zM5.41 20L4 18.59l7.72-7.72 1.47 1.35L5.41 20z\"/>\n",
              "  </svg>\n",
              "      </button>\n",
              "      \n",
              "  <style>\n",
              "    .colab-df-container {\n",
              "      display:flex;\n",
              "      flex-wrap:wrap;\n",
              "      gap: 12px;\n",
              "    }\n",
              "\n",
              "    .colab-df-convert {\n",
              "      background-color: #E8F0FE;\n",
              "      border: none;\n",
              "      border-radius: 50%;\n",
              "      cursor: pointer;\n",
              "      display: none;\n",
              "      fill: #1967D2;\n",
              "      height: 32px;\n",
              "      padding: 0 0 0 0;\n",
              "      width: 32px;\n",
              "    }\n",
              "\n",
              "    .colab-df-convert:hover {\n",
              "      background-color: #E2EBFA;\n",
              "      box-shadow: 0px 1px 2px rgba(60, 64, 67, 0.3), 0px 1px 3px 1px rgba(60, 64, 67, 0.15);\n",
              "      fill: #174EA6;\n",
              "    }\n",
              "\n",
              "    [theme=dark] .colab-df-convert {\n",
              "      background-color: #3B4455;\n",
              "      fill: #D2E3FC;\n",
              "    }\n",
              "\n",
              "    [theme=dark] .colab-df-convert:hover {\n",
              "      background-color: #434B5C;\n",
              "      box-shadow: 0px 1px 3px 1px rgba(0, 0, 0, 0.15);\n",
              "      filter: drop-shadow(0px 1px 2px rgba(0, 0, 0, 0.3));\n",
              "      fill: #FFFFFF;\n",
              "    }\n",
              "  </style>\n",
              "\n",
              "      <script>\n",
              "        const buttonEl =\n",
              "          document.querySelector('#df-d9d34697-a7ec-49b6-981b-a8f9c4ffdca0 button.colab-df-convert');\n",
              "        buttonEl.style.display =\n",
              "          google.colab.kernel.accessAllowed ? 'block' : 'none';\n",
              "\n",
              "        async function convertToInteractive(key) {\n",
              "          const element = document.querySelector('#df-d9d34697-a7ec-49b6-981b-a8f9c4ffdca0');\n",
              "          const dataTable =\n",
              "            await google.colab.kernel.invokeFunction('convertToInteractive',\n",
              "                                                     [key], {});\n",
              "          if (!dataTable) return;\n",
              "\n",
              "          const docLinkHtml = 'Like what you see? Visit the ' +\n",
              "            '<a target=\"_blank\" href=https://colab.research.google.com/notebooks/data_table.ipynb>data table notebook</a>'\n",
              "            + ' to learn more about interactive tables.';\n",
              "          element.innerHTML = '';\n",
              "          dataTable['output_type'] = 'display_data';\n",
              "          await google.colab.output.renderOutput(dataTable, element);\n",
              "          const docLink = document.createElement('div');\n",
              "          docLink.innerHTML = docLinkHtml;\n",
              "          element.appendChild(docLink);\n",
              "        }\n",
              "      </script>\n",
              "    </div>\n",
              "  </div>\n",
              "  "
            ]
          },
          "metadata": {},
          "execution_count": 47
        }
      ]
    }
  ]
}